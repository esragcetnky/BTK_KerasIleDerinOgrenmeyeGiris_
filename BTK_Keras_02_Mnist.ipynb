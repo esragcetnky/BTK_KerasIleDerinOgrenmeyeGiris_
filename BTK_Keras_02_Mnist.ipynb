{
  "nbformat": 4,
  "nbformat_minor": 0,
  "metadata": {
    "colab": {
      "name": "BTK_Keras_02_Mnist.ipynb",
      "provenance": [],
      "collapsed_sections": [],
      "authorship_tag": "ABX9TyP2Epp29uJ8aMB65LjGZ4Op",
      "include_colab_link": true
    },
    "kernelspec": {
      "name": "python3",
      "display_name": "Python 3"
    }
  },
  "cells": [
    {
      "cell_type": "markdown",
      "metadata": {
        "id": "view-in-github",
        "colab_type": "text"
      },
      "source": [
        "<a href=\"https://colab.research.google.com/github/esragcetnky/BTK_KerasIleDerinOgrenmeyeGiris_/blob/main/BTK_Keras_02_Mnist.ipynb\" target=\"_parent\"><img src=\"https://colab.research.google.com/assets/colab-badge.svg\" alt=\"Open In Colab\"/></a>"
      ]
    },
    {
      "cell_type": "markdown",
      "metadata": {
        "id": "-r1Anr1WlGZZ"
      },
      "source": [
        "# Mnist verisini için bir eğitim modeli oluşturma\n"
      ]
    },
    {
      "cell_type": "code",
      "metadata": {
        "id": "yNS7vuX0k4ib"
      },
      "source": [
        "from keras.datasets import mnist\n",
        "import numpy as np\n",
        "import matplotlib.pyplot as plt"
      ],
      "execution_count": null,
      "outputs": []
    },
    {
      "cell_type": "markdown",
      "metadata": {
        "id": "8snXeGyZlFOb"
      },
      "source": [
        "## Veri setini yükleme"
      ]
    },
    {
      "cell_type": "code",
      "metadata": {
        "id": "soQnowSulcdH"
      },
      "source": [
        "(train_images, train_labels),(test_images, test_labels)=mnist.load_data()"
      ],
      "execution_count": null,
      "outputs": []
    },
    {
      "cell_type": "code",
      "metadata": {
        "colab": {
          "base_uri": "https://localhost:8080/"
        },
        "id": "Xxw8SjSNllyq",
        "outputId": "ef470ed0-7c85-4e0d-ee09-28fd72f7bf60"
      },
      "source": [
        "print(\"# of train images: \", len(train_images))\n",
        "print(\"# of test images: \" ,len(test_images))"
      ],
      "execution_count": null,
      "outputs": [
        {
          "output_type": "stream",
          "text": [
            "# of train images:  60000\n",
            "# of test images:  10000\n"
          ],
          "name": "stdout"
        }
      ]
    },
    {
      "cell_type": "code",
      "metadata": {
        "colab": {
          "base_uri": "https://localhost:8080/"
        },
        "id": "ZVEqEcLGlyzL",
        "outputId": "6b52f734-d051-4b1c-fe74-c42a38d27b50"
      },
      "source": [
        "print(\"shape of train images\", train_images.shape)\n",
        "print(\"shape of test images\", test_images.shape)"
      ],
      "execution_count": null,
      "outputs": [
        {
          "output_type": "stream",
          "text": [
            "shape of train images (60000, 28, 28)\n",
            "shape of test images (10000, 28, 28)\n"
          ],
          "name": "stdout"
        }
      ]
    },
    {
      "cell_type": "markdown",
      "metadata": {
        "id": "nISdJnj5l_Vk"
      },
      "source": [
        "## Veri setini düzenleme"
      ]
    },
    {
      "cell_type": "code",
      "metadata": {
        "id": "pNqKFSyTl-hM"
      },
      "source": [
        "train_images=train_images.reshape(60000,(28*28))\n",
        "test_images=test_images.reshape(10000,(28*28))"
      ],
      "execution_count": null,
      "outputs": []
    },
    {
      "cell_type": "code",
      "metadata": {
        "id": "NKe7iKX7l8q2"
      },
      "source": [
        "train_images=train_images.astype('float32') /255\n",
        "test_images=test_images.astype('float32') /255"
      ],
      "execution_count": null,
      "outputs": []
    },
    {
      "cell_type": "code",
      "metadata": {
        "id": "jVNLKerVmizf"
      },
      "source": [
        "from keras.utils import to_categorical as tc"
      ],
      "execution_count": null,
      "outputs": []
    },
    {
      "cell_type": "code",
      "metadata": {
        "id": "SduOx6_VmzfO"
      },
      "source": [
        "train_labels=tc(train_labels)\n",
        "test_labels=tc(test_labels)"
      ],
      "execution_count": null,
      "outputs": []
    },
    {
      "cell_type": "markdown",
      "metadata": {
        "id": "WxYtApL9nAgf"
      },
      "source": [
        "## Eğitim setinin oluşturulması"
      ]
    },
    {
      "cell_type": "code",
      "metadata": {
        "id": "um8Q5Tsim9n5"
      },
      "source": [
        "from keras import layers\n",
        "from keras import models"
      ],
      "execution_count": null,
      "outputs": []
    },
    {
      "cell_type": "code",
      "metadata": {
        "id": "qs9EeANnbRFn"
      },
      "source": [
        "network=models.Sequential()"
      ],
      "execution_count": null,
      "outputs": []
    },
    {
      "cell_type": "code",
      "metadata": {
        "id": "ixIn86pnbwJ8"
      },
      "source": [
        "network.add(layers.Dense(512, \n",
        "                         activation='relu',\n",
        "                         input_shape=(28*28,)))"
      ],
      "execution_count": null,
      "outputs": []
    },
    {
      "cell_type": "code",
      "metadata": {
        "id": "gg-X7_ihdOOb"
      },
      "source": [
        "network.add(layers.Dense(10,\n",
        "                         activation=\"softmax\"))"
      ],
      "execution_count": null,
      "outputs": []
    },
    {
      "cell_type": "markdown",
      "metadata": {
        "id": "qovHXQgxdjAx"
      },
      "source": [
        "##Eğitim modelinin derlenmesi"
      ]
    },
    {
      "cell_type": "code",
      "metadata": {
        "id": "T4lPp-5cdb_x"
      },
      "source": [
        "network.compile(optimizer='rmsprop',\n",
        "                loss='categorical_crossentropy',\n",
        "                metrics=['accuracy']  )"
      ],
      "execution_count": null,
      "outputs": []
    },
    {
      "cell_type": "markdown",
      "metadata": {
        "id": "isL9cszSdpII"
      },
      "source": [
        "##Eğitim modelinin eğitilmesi"
      ]
    },
    {
      "cell_type": "code",
      "metadata": {
        "colab": {
          "base_uri": "https://localhost:8080/"
        },
        "id": "5RYjc64vdoLK",
        "outputId": "2a14316c-a266-44f0-cd52-261d4c4f800e"
      },
      "source": [
        "network.fit(train_images,train_labels,epochs=5,batch_size=128)"
      ],
      "execution_count": null,
      "outputs": [
        {
          "output_type": "stream",
          "text": [
            "Epoch 1/5\n",
            "469/469 [==============================] - 4s 8ms/step - loss: 0.4293 - accuracy: 0.8724\n",
            "Epoch 2/5\n",
            "469/469 [==============================] - 4s 8ms/step - loss: 0.1112 - accuracy: 0.9673\n",
            "Epoch 3/5\n",
            "469/469 [==============================] - 4s 8ms/step - loss: 0.0688 - accuracy: 0.9791\n",
            "Epoch 4/5\n",
            "469/469 [==============================] - 4s 8ms/step - loss: 0.0511 - accuracy: 0.9850\n",
            "Epoch 5/5\n",
            "469/469 [==============================] - 4s 8ms/step - loss: 0.0389 - accuracy: 0.9891\n"
          ],
          "name": "stdout"
        },
        {
          "output_type": "execute_result",
          "data": {
            "text/plain": [
              "<tensorflow.python.keras.callbacks.History at 0x7f4a201dea90>"
            ]
          },
          "metadata": {
            "tags": []
          },
          "execution_count": 50
        }
      ]
    },
    {
      "cell_type": "code",
      "metadata": {
        "colab": {
          "base_uri": "https://localhost:8080/"
        },
        "id": "XT7OlmP8fLV7",
        "outputId": "d7f03e7b-3ee5-4195-a552-14759ca56ada"
      },
      "source": [
        "test_loss,test_acc=network.evaluate(test_images,test_labels)"
      ],
      "execution_count": null,
      "outputs": [
        {
          "output_type": "stream",
          "text": [
            "313/313 [==============================] - 1s 2ms/step - loss: 0.0769 - accuracy: 0.9770\n"
          ],
          "name": "stdout"
        }
      ]
    },
    {
      "cell_type": "code",
      "metadata": {
        "colab": {
          "base_uri": "https://localhost:8080/"
        },
        "id": "rzrpb5b-fbyG",
        "outputId": "00332f60-6170-4229-a5e7-2a107ba807e8"
      },
      "source": [
        "print(\"loss: \", test_loss)"
      ],
      "execution_count": null,
      "outputs": [
        {
          "output_type": "stream",
          "text": [
            "loss:  0.07691583037376404\n"
          ],
          "name": "stdout"
        }
      ]
    },
    {
      "cell_type": "code",
      "metadata": {
        "colab": {
          "base_uri": "https://localhost:8080/"
        },
        "id": "hmtCGE4JfqEK",
        "outputId": "4888e06a-88a7-44ac-f7f4-8b727c05e386"
      },
      "source": [
        "print(\"acc: \", test_acc)"
      ],
      "execution_count": null,
      "outputs": [
        {
          "output_type": "stream",
          "text": [
            "acc:  0.9769999980926514\n"
          ],
          "name": "stdout"
        }
      ]
    }
  ]
}