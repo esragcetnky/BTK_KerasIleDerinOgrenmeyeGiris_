{
  "nbformat": 4,
  "nbformat_minor": 0,
  "metadata": {
    "colab": {
      "name": "BTK_Keras_04_ActivationFunctions.ipynb",
      "provenance": [],
      "collapsed_sections": [],
      "authorship_tag": "ABX9TyPBegj+PdzNZgKuWS+xxB5a",
      "include_colab_link": true
    },
    "kernelspec": {
      "name": "python3",
      "display_name": "Python 3"
    }
  },
  "cells": [
    {
      "cell_type": "markdown",
      "metadata": {
        "id": "view-in-github",
        "colab_type": "text"
      },
      "source": [
        "<a href=\"https://colab.research.google.com/github/esragcetnky/BTK_KerasIleDerinOgrenmeyeGiris_/blob/main/BTK_Keras_04_ActivationFunctions.ipynb\" target=\"_parent\"><img src=\"https://colab.research.google.com/assets/colab-badge.svg\" alt=\"Open In Colab\"/></a>"
      ]
    },
    {
      "cell_type": "markdown",
      "metadata": {
        "id": "cWIa4jL8B0MC"
      },
      "source": [
        "#Activation Functions"
      ]
    },
    {
      "cell_type": "markdown",
      "metadata": {
        "id": "kkqsa8q8CnRb"
      },
      "source": [
        "#0.Drive'a Bağlanma"
      ]
    },
    {
      "cell_type": "code",
      "metadata": {
        "id": "mdr6O_MgBuFj"
      },
      "source": [
        "from google.colab import drive\n",
        "drive.mount('/content/drive')"
      ],
      "execution_count": null,
      "outputs": []
    },
    {
      "cell_type": "markdown",
      "metadata": {
        "id": "8bi3IqO9CrRM"
      },
      "source": [
        "#1.Gerekli Kütüphaneler"
      ]
    },
    {
      "cell_type": "code",
      "metadata": {
        "id": "mQgCuvpoCafd"
      },
      "source": [
        "import math\n",
        "import matplotlib.pyplot as plt\n",
        "import matplotlib.lines as lines\n",
        "import numpy as np"
      ],
      "execution_count": null,
      "outputs": []
    },
    {
      "cell_type": "markdown",
      "metadata": {
        "id": "Knt3ncRLC5a2"
      },
      "source": [
        "#2.Sigmoid"
      ]
    },
    {
      "cell_type": "code",
      "metadata": {
        "id": "DGv8E4O5C32I"
      },
      "source": [
        "def sigmoid(x):\n",
        "  a=[]\n",
        "  for i in x:\n",
        "    a.append(1/(1+math.exp(-i)))\n",
        "  return a"
      ],
      "execution_count": null,
      "outputs": []
    },
    {
      "cell_type": "markdown",
      "metadata": {
        "id": "mr5BYJ1HDHjz"
      },
      "source": [
        "#3.Hiperbolik Tanjant"
      ]
    },
    {
      "cell_type": "code",
      "metadata": {
        "id": "G2gRxy5WDNjg"
      },
      "source": [
        "def tanh(x, derivative=False):  \n",
        "  if (derivative==True):\n",
        "    return (1-(x**2))\n",
        "  return np.tanh(x)  "
      ],
      "execution_count": null,
      "outputs": []
    },
    {
      "cell_type": "markdown",
      "metadata": {
        "id": "EL9VvKcTDQl8"
      },
      "source": [
        "#4.ReLu"
      ]
    },
    {
      "cell_type": "code",
      "metadata": {
        "id": "kKURx7LBDYIy"
      },
      "source": [
        "def re(x):\n",
        "  b=[]\n",
        "  for i in x:\n",
        "    if i<0:\n",
        "      b.append(0)\n",
        "    else:\n",
        "      b.append(i)\n",
        "  return b"
      ],
      "execution_count": null,
      "outputs": []
    },
    {
      "cell_type": "markdown",
      "metadata": {
        "id": "Dh4ZZlCHEL_Y"
      },
      "source": [
        "#5.Leaky ReLu"
      ]
    },
    {
      "cell_type": "code",
      "metadata": {
        "id": "Unc0u6tpDmk-"
      },
      "source": [
        "def lr(x):\n",
        "  b=[]\n",
        "  for i in x:\n",
        "    if i<0:\n",
        "      b.append(i/10)\n",
        "    else:\n",
        "      b.append(i)\n",
        "  return b"
      ],
      "execution_count": null,
      "outputs": []
    },
    {
      "cell_type": "markdown",
      "metadata": {
        "id": "Eo1MZRESEyB3"
      },
      "source": [
        "#6.Swish"
      ]
    },
    {
      "cell_type": "code",
      "metadata": {
        "id": "ncnW7t8fExcn"
      },
      "source": [
        "def swish(x):\n",
        "  sig=sigmoid(x)\n",
        "  swi=sig*x\n",
        "  return swi"
      ],
      "execution_count": null,
      "outputs": []
    },
    {
      "cell_type": "markdown",
      "metadata": {
        "id": "e-tnLk6uFM1e"
      },
      "source": [
        "#7.Grafiklerin oluşturulması için aralıkların tanımlanması"
      ]
    },
    {
      "cell_type": "code",
      "metadata": {
        "id": "AhMZGBusE8DG"
      },
      "source": [
        "x=np.arange(-3.,3.,0.1)"
      ],
      "execution_count": null,
      "outputs": []
    },
    {
      "cell_type": "code",
      "metadata": {
        "colab": {
          "base_uri": "https://localhost:8080/"
        },
        "id": "4OoCpEdSFYzH",
        "outputId": "927a9d13-4d5a-4bc3-93ef-76df67ad0566"
      },
      "source": [
        "x"
      ],
      "execution_count": null,
      "outputs": [
        {
          "output_type": "execute_result",
          "data": {
            "text/plain": [
              "array([-3.00000000e+00, -2.90000000e+00, -2.80000000e+00, -2.70000000e+00,\n",
              "       -2.60000000e+00, -2.50000000e+00, -2.40000000e+00, -2.30000000e+00,\n",
              "       -2.20000000e+00, -2.10000000e+00, -2.00000000e+00, -1.90000000e+00,\n",
              "       -1.80000000e+00, -1.70000000e+00, -1.60000000e+00, -1.50000000e+00,\n",
              "       -1.40000000e+00, -1.30000000e+00, -1.20000000e+00, -1.10000000e+00,\n",
              "       -1.00000000e+00, -9.00000000e-01, -8.00000000e-01, -7.00000000e-01,\n",
              "       -6.00000000e-01, -5.00000000e-01, -4.00000000e-01, -3.00000000e-01,\n",
              "       -2.00000000e-01, -1.00000000e-01,  2.66453526e-15,  1.00000000e-01,\n",
              "        2.00000000e-01,  3.00000000e-01,  4.00000000e-01,  5.00000000e-01,\n",
              "        6.00000000e-01,  7.00000000e-01,  8.00000000e-01,  9.00000000e-01,\n",
              "        1.00000000e+00,  1.10000000e+00,  1.20000000e+00,  1.30000000e+00,\n",
              "        1.40000000e+00,  1.50000000e+00,  1.60000000e+00,  1.70000000e+00,\n",
              "        1.80000000e+00,  1.90000000e+00,  2.00000000e+00,  2.10000000e+00,\n",
              "        2.20000000e+00,  2.30000000e+00,  2.40000000e+00,  2.50000000e+00,\n",
              "        2.60000000e+00,  2.70000000e+00,  2.80000000e+00,  2.90000000e+00])"
            ]
          },
          "metadata": {
            "tags": []
          },
          "execution_count": 15
        }
      ]
    },
    {
      "cell_type": "code",
      "metadata": {
        "id": "46GKZVo6FZk5"
      },
      "source": [
        "sig=sigmoid(x)\n",
        "tan=tanh(x)\n",
        "relu=re(x)\n",
        "leaky_relu=lr(x)\n",
        "swi=swish(x)"
      ],
      "execution_count": null,
      "outputs": []
    },
    {
      "cell_type": "markdown",
      "metadata": {
        "id": "4GUGDHBvE9K1"
      },
      "source": [
        "#8.Değerlerin Plot olarak yapılması"
      ]
    },
    {
      "cell_type": "code",
      "metadata": {
        "colab": {
          "base_uri": "https://localhost:8080/",
          "height": 592
        },
        "id": "N-nw5Qpw8ijN",
        "outputId": "8f059e66-097d-4ffe-be6c-4dfa4f367da1"
      },
      "source": [
        "fig, ax44=plt.subplots(figsize=(10,10))\n",
        "\n",
        "ax44.axhline(y=0,color='black',linestyle=':')\n",
        "ax44.axvline(x=0,color='black',linestyle=':')\n",
        "\n",
        "ax44.plot(x, sig, label='Sigmoid')\n",
        "ax44.plot(x, tan, label='Tanjant')\n",
        "ax44.plot(x, relu, label='ReLU',linestyle='--')\n",
        "ax44.plot(x, leaky_relu, label='Leaky ReLU',linestyle='--')\n",
        "ax44.plot(x, swi, label='Swish')\n",
        "\n",
        "ax44.legend()\n",
        "plt.show()"
      ],
      "execution_count": null,
      "outputs": [
        {
          "output_type": "display_data",
          "data": {
            "image/png": "[encoded data removed]",
            "text/plain": [
              "<Figure size 720x720 with 1 Axes>"
            ]
          },
          "metadata": {
            "tags": [],
            "needs_background": "light"
          }
        }
      ]
    }
  ]
}