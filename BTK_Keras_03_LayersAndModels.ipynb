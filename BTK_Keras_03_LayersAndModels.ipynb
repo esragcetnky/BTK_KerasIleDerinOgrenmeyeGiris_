{
  "nbformat": 4,
  "nbformat_minor": 0,
  "metadata": {
    "colab": {
      "name": "BTK_Keras_03_LayersAndModels.ipynb",
      "provenance": [],
      "authorship_tag": "ABX9TyNf4Mvp0E96Uhbj/sXMVzKx",
      "include_colab_link": true
    },
    "kernelspec": {
      "name": "python3",
      "display_name": "Python 3"
    }
  },
  "cells": [
    {
      "cell_type": "markdown",
      "metadata": {
        "id": "view-in-github",
        "colab_type": "text"
      },
      "source": [
        "<a href=\"https://colab.research.google.com/github/esragcetnky/BTK_KerasIleDerinOgrenmeyeGiris_/blob/main/BTK_Keras_03_LayersAndModels.ipynb\" target=\"_parent\"><img src=\"https://colab.research.google.com/assets/colab-badge.svg\" alt=\"Open In Colab\"/></a>"
      ]
    },
    {
      "cell_type": "markdown",
      "metadata": {
        "id": "moeKgMmIa5l9"
      },
      "source": [
        "#Katmanlar"
      ]
    },
    {
      "cell_type": "code",
      "metadata": {
        "id": "UFRaXEKJaxeE"
      },
      "source": [
        "from keras import layers"
      ],
      "execution_count": null,
      "outputs": []
    },
    {
      "cell_type": "code",
      "metadata": {
        "id": "EXvxS_tBa_AJ"
      },
      "source": [
        "ilk_katman=layers.Dense( units=32,activation=\"relu\",input_shape=(64,64,64))"
      ],
      "execution_count": null,
      "outputs": []
    },
    {
      "cell_type": "code",
      "metadata": {
        "id": "aJXws2zbbMPO"
      },
      "source": [
        "cnn_katman=layers.Conv2D(filters=2,  \n",
        "                          kernel_size=168,\n",
        "                            strides=(1,1),\n",
        "                            activation=\"relu\",\n",
        "                            padding=\"same\")"
      ],
      "execution_count": null,
      "outputs": []
    },
    {
      "cell_type": "markdown",
      "metadata": {
        "id": "w7D-EbXpcnb-"
      },
      "source": [
        "#Modeller"
      ]
    },
    {
      "cell_type": "code",
      "metadata": {
        "id": "z-ymoJLtcL8W"
      },
      "source": [
        "from keras import models"
      ],
      "execution_count": null,
      "outputs": []
    },
    {
      "cell_type": "code",
      "metadata": {
        "id": "JB8JeHwYcq1q"
      },
      "source": [
        "ilk_model=models.Sequential()"
      ],
      "execution_count": null,
      "outputs": []
    },
    {
      "cell_type": "code",
      "metadata": {
        "id": "wA6YWNPwcu8p"
      },
      "source": [
        "ilk_model.add(ilk_katman)"
      ],
      "execution_count": null,
      "outputs": []
    },
    {
      "cell_type": "code",
      "metadata": {
        "id": "05R1ZQo2c71_"
      },
      "source": [
        "ilk_model.add(cnn_katman)"
      ],
      "execution_count": null,
      "outputs": []
    },
    {
      "cell_type": "code",
      "metadata": {
        "id": "w4xITo71c_EE"
      },
      "source": [
        "ilk_model.add(layers.Dense(units=10,\n",
        "                           activation='relu'))"
      ],
      "execution_count": null,
      "outputs": []
    },
    {
      "cell_type": "code",
      "metadata": {
        "colab": {
          "base_uri": "https://localhost:8080/"
        },
        "id": "ul7WWgQIdYu0",
        "outputId": "b5d76176-10d6-4c76-edc9-5c1d71ef139f"
      },
      "source": [
        "ilk_model.summary()"
      ],
      "execution_count": null,
      "outputs": [
        {
          "output_type": "stream",
          "text": [
            "Model: \"sequential_3\"\n",
            "_________________________________________________________________\n",
            "Layer (type)                 Output Shape              Param #   \n",
            "=================================================================\n",
            "dense_3 (Dense)              (None, 64, 64, 32)        2080      \n",
            "_________________________________________________________________\n",
            "conv2d_8 (Conv2D)            (None, 64, 64, 2)         1806338   \n",
            "_________________________________________________________________\n",
            "dense_4 (Dense)              (None, 64, 64, 10)        30        \n",
            "_________________________________________________________________\n",
            "dense_5 (Dense)              (None, 64, 64, 10)        110       \n",
            "=================================================================\n",
            "Total params: 1,808,558\n",
            "Trainable params: 1,808,558\n",
            "Non-trainable params: 0\n",
            "_________________________________________________________________\n"
          ],
          "name": "stdout"
        }
      ]
    }
  ]
}